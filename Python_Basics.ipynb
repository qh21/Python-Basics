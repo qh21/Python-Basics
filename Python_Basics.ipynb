{
 "cells": [
  {
   "cell_type": "markdown",
   "metadata": {},
   "source": [
    "# Python Basics"
   ]
  },
  {
   "cell_type": "markdown",
   "metadata": {},
   "source": [
    "### Note: It's recommended to have knowledge in other programming language such as C++ or Java before starting this tutorial."
   ]
  },
  {
   "cell_type": "markdown",
   "metadata": {},
   "source": [
    "<br>"
   ]
  },
  {
   "cell_type": "markdown",
   "metadata": {},
   "source": [
    "### Python Variables and print() function"
   ]
  },
  {
   "cell_type": "markdown",
   "metadata": {},
   "source": [
    "* Variable should start with letter or underscore (_), and it can contain numbers.\n",
    "* Please note that Python is a case sensitive programming language.\n",
    "####"
   ]
  },
  {
   "cell_type": "code",
   "execution_count": 86,
   "metadata": {},
   "outputs": [
    {
     "name": "stdout",
     "output_type": "stream",
     "text": [
      "1\n",
      "2\n",
      "3\n",
      "4\n",
      "5\n",
      "6\n"
     ]
    }
   ],
   "source": [
    "variable = 1\n",
    "Variable = 2\n",
    "x = 3\n",
    "_variable4 = 4\n",
    "_ = 5\n",
    "X = 6\n",
    "print(variable)\n",
    "print(Variable)\n",
    "print(x)\n",
    "print(_variable4)\n",
    "print(_)\n",
    "print(X)"
   ]
  },
  {
   "cell_type": "markdown",
   "metadata": {},
   "source": [
    "* In Python you don't have to set the data type of the variable such as in C++ or Java, just assign a value to a variable.\n",
    "####"
   ]
  },
  {
   "cell_type": "code",
   "execution_count": 14,
   "metadata": {},
   "outputs": [
    {
     "name": "stdout",
     "output_type": "stream",
     "text": [
      "5\n",
      "variable_Y\n",
      "[1, 2, 3, 4, 5]\n"
     ]
    }
   ],
   "source": [
    "x = 5\n",
    "y = \"variable_Y\"\n",
    "z = [1,2,3,4,5]\n",
    "print(x)\n",
    "print(y)\n",
    "print(z)"
   ]
  },
  {
   "cell_type": "markdown",
   "metadata": {},
   "source": [
    "* You can use double quotations (\" \") or Single quotations (' ') for Strings.\n",
    "####"
   ]
  },
  {
   "cell_type": "code",
   "execution_count": null,
   "metadata": {},
   "outputs": [],
   "source": [
    "x = \"variable_X\"\n",
    "y = 'variable_y'"
   ]
  },
  {
   "cell_type": "markdown",
   "metadata": {},
   "source": [
    "* You can use print() function to display a statement or value of one variable or more.\n",
    "* You can use mathematical operatinos inside print() function.\n",
    "* To print a new line you can use '\\n' and to print a tab space you can use '\\t'.\n",
    "* To print multiple statements or variables you can use (,) or (+), please note that it will be a space after (,).\n",
    "####"
   ]
  },
  {
   "cell_type": "code",
   "execution_count": 40,
   "metadata": {},
   "outputs": [
    {
     "name": "stdout",
     "output_type": "stream",
     "text": [
      "1\n",
      "User\n",
      "\n",
      "3\n",
      "-4\n",
      "5\n",
      "Hello:\t UserUser2\n",
      "User2\n",
      "User 2\n"
     ]
    }
   ],
   "source": [
    "x = 1\n",
    "y = 2 \n",
    "z = -5\n",
    "variable = '2'\n",
    "userVariable = 'User'\n",
    "userVariable2 = 'User2'\n",
    "print(x)\n",
    "print(userVariable+\"\\n\")\n",
    "print(x + y)\n",
    "print(z + x)\n",
    "print(-z)\n",
    "print('Hello:\\t',userVariable + userVariable2)\n",
    "print(userVariable+variable)\n",
    "print(userVariable,variable)"
   ]
  },
  {
   "cell_type": "markdown",
   "metadata": {},
   "source": [
    "* You can assign the same value to multiple variables in one line.\n",
    "####"
   ]
  },
  {
   "cell_type": "code",
   "execution_count": 41,
   "metadata": {},
   "outputs": [
    {
     "name": "stdout",
     "output_type": "stream",
     "text": [
      "5\n",
      "5\n",
      "5\n"
     ]
    }
   ],
   "source": [
    "variable1  = variable2 = variable3 = 5\n",
    "print(variable1)\n",
    "print(variable2)\n",
    "print(variable3)"
   ]
  },
  {
   "cell_type": "markdown",
   "metadata": {},
   "source": [
    "* You can assign multiple values to multiple variables in one line.\n",
    "####"
   ]
  },
  {
   "cell_type": "code",
   "execution_count": 97,
   "metadata": {},
   "outputs": [
    {
     "name": "stdout",
     "output_type": "stream",
     "text": [
      "5\n",
      "6\n",
      "7\n"
     ]
    }
   ],
   "source": [
    "variable1, variable2, variable3 = 5, 6, 7\n",
    "print(variable1)\n",
    "print(variable2)\n",
    "print(variable3)"
   ]
  },
  {
   "cell_type": "markdown",
   "metadata": {},
   "source": [
    "* You cannot use (+) between (Int or Float) and (String).\n",
    "####"
   ]
  },
  {
   "cell_type": "code",
   "execution_count": 5,
   "metadata": {},
   "outputs": [
    {
     "name": "stdout",
     "output_type": "stream",
     "text": [
      "User 2\n"
     ]
    }
   ],
   "source": [
    "print(userVariable,y)"
   ]
  },
  {
   "cell_type": "code",
   "execution_count": 6,
   "metadata": {},
   "outputs": [
    {
     "ename": "TypeError",
     "evalue": "can only concatenate str (not \"int\") to str",
     "output_type": "error",
     "traceback": [
      "\u001b[1;31m---------------------------------------------------------------------------\u001b[0m",
      "\u001b[1;31mTypeError\u001b[0m                                 Traceback (most recent call last)",
      "Cell \u001b[1;32mIn[6], line 1\u001b[0m\n\u001b[1;32m----> 1\u001b[0m \u001b[38;5;28mprint\u001b[39m(\u001b[43muserVariable\u001b[49m\u001b[38;5;241;43m+\u001b[39;49m\u001b[43my\u001b[49m)\n",
      "\u001b[1;31mTypeError\u001b[0m: can only concatenate str (not \"int\") to str"
     ]
    }
   ],
   "source": [
    "print(userVariable+y)"
   ]
  },
  {
   "cell_type": "markdown",
   "metadata": {},
   "source": [
    "* You can use (*) between (Int) and (String) to print the string repeatedly (based on the value of the Int).\n",
    "####"
   ]
  },
  {
   "cell_type": "code",
   "execution_count": 17,
   "metadata": {},
   "outputs": [
    {
     "name": "stdout",
     "output_type": "stream",
     "text": [
      "UserUser\n"
     ]
    }
   ],
   "source": [
    "print(userVariable * y)"
   ]
  },
  {
   "cell_type": "markdown",
   "metadata": {},
   "source": [
    "* You can use print(f\"{variable}\") or print(F\"{variable}\").\n",
    "####"
   ]
  },
  {
   "cell_type": "code",
   "execution_count": 23,
   "metadata": {},
   "outputs": [
    {
     "name": "stdout",
     "output_type": "stream",
     "text": [
      "The current number is 1\n",
      "Your number is 2\n"
     ]
    }
   ],
   "source": [
    "print(f\"The current number is {1}\")\n",
    "print(F\"Your number is {y}\")"
   ]
  },
  {
   "cell_type": "markdown",
   "metadata": {},
   "source": [
    "* To print single quotation marks ('') use print(\"'quotation'\") and to print double quotation marks use print('\"quotation\"').\n",
    "####"
   ]
  },
  {
   "cell_type": "code",
   "execution_count": 37,
   "metadata": {},
   "outputs": [
    {
     "name": "stdout",
     "output_type": "stream",
     "text": [
      "Example 'Quotation1'\n",
      "Example \"Quotation2\"\n"
     ]
    }
   ],
   "source": [
    "print(\"Example 'Quotation1'\")\n",
    "print('Example \"Quotation2\"')"
   ]
  },
  {
   "cell_type": "markdown",
   "metadata": {},
   "source": [
    "* To print a multiple line use print(\"\"\" \"\"\") or print(''' ''') and you can use same quotation inside.\n",
    "####"
   ]
  },
  {
   "cell_type": "code",
   "execution_count": 38,
   "metadata": {},
   "outputs": [
    {
     "name": "stdout",
     "output_type": "stream",
     "text": [
      "\n",
      "      \n",
      "This\n",
      "    is\n",
      "      an \n",
      "        Example\n",
      "\n",
      "      \n",
      "\n",
      "      \n",
      "This\n",
      "    is\n",
      "      an \n",
      "        other\n",
      "            'Example'\n",
      "\n",
      "      \n"
     ]
    }
   ],
   "source": [
    "print(\"\"\"\n",
    "      \n",
    "This\n",
    "    is\n",
    "      an \n",
    "        Example\n",
    "\n",
    "      \"\"\")\n",
    "\n",
    "\n",
    "print('''\n",
    "      \n",
    "This\n",
    "    is\n",
    "      an \n",
    "        other\n",
    "            'Example'\n",
    "\n",
    "      ''')"
   ]
  },
  {
   "cell_type": "markdown",
   "metadata": {},
   "source": [
    "####\n",
    "<br>"
   ]
  },
  {
   "cell_type": "markdown",
   "metadata": {},
   "source": [
    "### Commenting in Python"
   ]
  },
  {
   "cell_type": "markdown",
   "metadata": {},
   "source": [
    "* You can use (#) for single line comment or ((''' ''') or (\"\"\" \"\"\")) for multiline comment.\n",
    "####"
   ]
  },
  {
   "cell_type": "code",
   "execution_count": 76,
   "metadata": {},
   "outputs": [
    {
     "name": "stdout",
     "output_type": "stream",
     "text": [
      "1\n"
     ]
    }
   ],
   "source": [
    "# comment\n",
    "print(1)"
   ]
  },
  {
   "cell_type": "code",
   "execution_count": 77,
   "metadata": {},
   "outputs": [
    {
     "name": "stdout",
     "output_type": "stream",
     "text": [
      "1\n",
      "2\n"
     ]
    }
   ],
   "source": [
    "print(1)\n",
    "'''\n",
    "comment1\n",
    "comment2\n",
    "comment3\n",
    "\n",
    "'''\n",
    "print(2)"
   ]
  },
  {
   "cell_type": "code",
   "execution_count": 78,
   "metadata": {},
   "outputs": [
    {
     "name": "stdout",
     "output_type": "stream",
     "text": [
      "1\n",
      "2\n"
     ]
    }
   ],
   "source": [
    "print(1)\n",
    "\"\"\"\n",
    "\n",
    "comment1\n",
    "comment2\n",
    "comment3\n",
    "\n",
    "\n",
    "\"\"\"\n",
    "print(2)"
   ]
  },
  {
   "cell_type": "markdown",
   "metadata": {},
   "source": [
    "####\n",
    "<br>"
   ]
  },
  {
   "cell_type": "markdown",
   "metadata": {},
   "source": [
    "### Functions in Python"
   ]
  },
  {
   "cell_type": "markdown",
   "metadata": {},
   "source": [
    "* To define a function you (def functionName():).\n",
    "* The space in the block of the function must be the same.\n",
    "####"
   ]
  },
  {
   "cell_type": "code",
   "execution_count": 71,
   "metadata": {},
   "outputs": [
    {
     "name": "stdout",
     "output_type": "stream",
     "text": [
      "This is function 1\n",
      "Line 2\n",
      "Line 3\n"
     ]
    }
   ],
   "source": [
    "def function1():\n",
    "    print(\"This is function 1\")\n",
    "    print(\"Line 2\")\n",
    "    print(\"Line 3\")\n",
    "function1()"
   ]
  },
  {
   "cell_type": "code",
   "execution_count": 73,
   "metadata": {},
   "outputs": [
    {
     "ename": "IndentationError",
     "evalue": "unindent does not match any outer indentation level (<tokenize>, line 4)",
     "output_type": "error",
     "traceback": [
      "\u001b[1;36m  File \u001b[1;32m<tokenize>:4\u001b[1;36m\u001b[0m\n\u001b[1;33m    print(\"Line 3\")\u001b[0m\n\u001b[1;37m    ^\u001b[0m\n\u001b[1;31mIndentationError\u001b[0m\u001b[1;31m:\u001b[0m unindent does not match any outer indentation level\n"
     ]
    }
   ],
   "source": [
    "def function1():\n",
    "    print(\"This is function 1\")\n",
    "        print(\"Line 2\")\n",
    "  print(\"Line 3\")\n",
    "function1()"
   ]
  },
  {
   "cell_type": "markdown",
   "metadata": {},
   "source": [
    "* Function can be used to return a value or multiple values or to print something or to do other things.\n",
    "* Functions can have parameters and can have no parameters.\n",
    "* You can set an initial values for parameters.\n",
    "* If function has parameters with initial values, you can use it by passing arguments or without passing arguments.\n",
    "* If function has parameters without initial values, you have to pass arguments.\n",
    "* If function has no parameters, you cannot pass arguments.\n",
    "* Number of the arguments should be the same as parameters.\n",
    "####"
   ]
  },
  {
   "cell_type": "code",
   "execution_count": 74,
   "metadata": {},
   "outputs": [
    {
     "name": "stdout",
     "output_type": "stream",
     "text": [
      "9\n"
     ]
    }
   ],
   "source": [
    "def function1(x,y):\n",
    "    return(x+y)\n",
    "print(function1(4,5))"
   ]
  },
  {
   "cell_type": "code",
   "execution_count": 75,
   "metadata": {},
   "outputs": [
    {
     "ename": "TypeError",
     "evalue": "function1() takes 2 positional arguments but 3 were given",
     "output_type": "error",
     "traceback": [
      "\u001b[1;31m---------------------------------------------------------------------------\u001b[0m",
      "\u001b[1;31mTypeError\u001b[0m                                 Traceback (most recent call last)",
      "Cell \u001b[1;32mIn[75], line 3\u001b[0m\n\u001b[0;32m      1\u001b[0m \u001b[38;5;28;01mdef\u001b[39;00m \u001b[38;5;21mfunction1\u001b[39m(x,y):\n\u001b[0;32m      2\u001b[0m     \u001b[38;5;28;01mreturn\u001b[39;00m(x\u001b[38;5;241m+\u001b[39my)\n\u001b[1;32m----> 3\u001b[0m \u001b[38;5;28mprint\u001b[39m(\u001b[43mfunction1\u001b[49m\u001b[43m(\u001b[49m\u001b[38;5;241;43m4\u001b[39;49m\u001b[43m,\u001b[49m\u001b[38;5;241;43m5\u001b[39;49m\u001b[43m,\u001b[49m\u001b[38;5;241;43m7\u001b[39;49m\u001b[43m)\u001b[49m)\n",
      "\u001b[1;31mTypeError\u001b[0m: function1() takes 2 positional arguments but 3 were given"
     ]
    }
   ],
   "source": [
    "def function1(x,y):\n",
    "    return(x+y)\n",
    "print(function1(4,5,7))"
   ]
  },
  {
   "cell_type": "code",
   "execution_count": null,
   "metadata": {},
   "outputs": [
    {
     "ename": "TypeError",
     "evalue": "function1() missing 1 required positional argument: 'y'",
     "output_type": "error",
     "traceback": [
      "\u001b[1;31m---------------------------------------------------------------------------\u001b[0m",
      "\u001b[1;31mTypeError\u001b[0m                                 Traceback (most recent call last)",
      "Cell \u001b[1;32mIn[65], line 3\u001b[0m\n\u001b[0;32m      1\u001b[0m \u001b[38;5;28;01mdef\u001b[39;00m \u001b[38;5;21mfunction1\u001b[39m(x,y):\n\u001b[0;32m      2\u001b[0m     \u001b[38;5;28;01mreturn\u001b[39;00m(x\u001b[38;5;241m+\u001b[39my)\n\u001b[1;32m----> 3\u001b[0m \u001b[38;5;28mprint\u001b[39m(\u001b[43mfunction1\u001b[49m\u001b[43m(\u001b[49m\u001b[38;5;241;43m4\u001b[39;49m\u001b[43m)\u001b[49m)\n",
      "\u001b[1;31mTypeError\u001b[0m: function1() missing 1 required positional argument: 'y'"
     ]
    }
   ],
   "source": [
    "def function1(x,y):\n",
    "    return(x+y)\n",
    "print(function1(4))"
   ]
  },
  {
   "cell_type": "code",
   "execution_count": null,
   "metadata": {},
   "outputs": [
    {
     "ename": "TypeError",
     "evalue": "function1() missing 2 required positional arguments: 'x' and 'y'",
     "output_type": "error",
     "traceback": [
      "\u001b[1;31m---------------------------------------------------------------------------\u001b[0m",
      "\u001b[1;31mTypeError\u001b[0m                                 Traceback (most recent call last)",
      "Cell \u001b[1;32mIn[64], line 3\u001b[0m\n\u001b[0;32m      1\u001b[0m \u001b[38;5;28;01mdef\u001b[39;00m \u001b[38;5;21mfunction1\u001b[39m(x,y):\n\u001b[0;32m      2\u001b[0m     \u001b[38;5;28;01mreturn\u001b[39;00m(x\u001b[38;5;241m+\u001b[39my)\n\u001b[1;32m----> 3\u001b[0m \u001b[38;5;28mprint\u001b[39m(\u001b[43mfunction1\u001b[49m\u001b[43m(\u001b[49m\u001b[43m)\u001b[49m)\n",
      "\u001b[1;31mTypeError\u001b[0m: function1() missing 2 required positional arguments: 'x' and 'y'"
     ]
    }
   ],
   "source": [
    "def function1(x,y):\n",
    "    return(x+y)\n",
    "print(function1())"
   ]
  },
  {
   "cell_type": "code",
   "execution_count": null,
   "metadata": {},
   "outputs": [
    {
     "name": "stdout",
     "output_type": "stream",
     "text": [
      "13\n"
     ]
    }
   ],
   "source": [
    "def function1(x=5,y=8):\n",
    "    return(x+y)\n",
    "print(function1())"
   ]
  },
  {
   "cell_type": "markdown",
   "metadata": {},
   "source": [
    "* You can change (overwrite) the value of the initialized parameter.\n",
    "####"
   ]
  },
  {
   "cell_type": "code",
   "execution_count": null,
   "metadata": {},
   "outputs": [
    {
     "name": "stdout",
     "output_type": "stream",
     "text": [
      "7\n"
     ]
    }
   ],
   "source": [
    "def function1(x=5,y=8):\n",
    "    return(x+y)\n",
    "print(function1(y=2))"
   ]
  },
  {
   "cell_type": "markdown",
   "metadata": {},
   "source": [
    "####\n",
    "<br>"
   ]
  },
  {
   "cell_type": "markdown",
   "metadata": {},
   "source": [
    "### Conditional statements in Python"
   ]
  },
  {
   "cell_type": "markdown",
   "metadata": {},
   "source": [
    "* The Space inside the block must be the same, same as functions.\n",
    "* You can use conditional statements with or without parentheses (()).\n",
    "####"
   ]
  },
  {
   "cell_type": "markdown",
   "metadata": {},
   "source": [
    "#### 1) if Conditional Statement"
   ]
  },
  {
   "cell_type": "code",
   "execution_count": 81,
   "metadata": {},
   "outputs": [
    {
     "name": "stdout",
     "output_type": "stream",
     "text": [
      "True\n"
     ]
    }
   ],
   "source": [
    "if 5>3:\n",
    "    print('True') "
   ]
  },
  {
   "cell_type": "code",
   "execution_count": 82,
   "metadata": {},
   "outputs": [],
   "source": [
    "if 5<3:\n",
    "    print('True') "
   ]
  },
  {
   "cell_type": "markdown",
   "metadata": {},
   "source": [
    " #### 2) if-else Conditional Statement"
   ]
  },
  {
   "cell_type": "code",
   "execution_count": 83,
   "metadata": {},
   "outputs": [
    {
     "name": "stdout",
     "output_type": "stream",
     "text": [
      "True\n"
     ]
    }
   ],
   "source": [
    "x = 5\n",
    "if x == 5:\n",
    "    print('True')\n",
    "else:\n",
    "    print('False')"
   ]
  },
  {
   "cell_type": "code",
   "execution_count": 84,
   "metadata": {},
   "outputs": [
    {
     "name": "stdout",
     "output_type": "stream",
     "text": [
      "False\n"
     ]
    }
   ],
   "source": [
    "x = 8\n",
    "if x == 5:\n",
    "    print('True')\n",
    "else:\n",
    "    print('False')"
   ]
  },
  {
   "cell_type": "markdown",
   "metadata": {},
   "source": [
    "#### 3) if-elif-else Conditional Statement"
   ]
  },
  {
   "cell_type": "code",
   "execution_count": 91,
   "metadata": {},
   "outputs": [
    {
     "name": "stdout",
     "output_type": "stream",
     "text": [
      "z = 5\n"
     ]
    }
   ],
   "source": [
    "x = 4\n",
    "y = 9\n",
    "z = 5\n",
    "if x == 5: \n",
    "    print(\"x = 5\")\n",
    "elif y == 5:\n",
    "    print(\"y = 5\")\n",
    "elif z == 5:\n",
    "    print(\"z = 5\") \n",
    "else:\n",
    "    print(\"None of (x, y & z) is equals to 5\")\n"
   ]
  },
  {
   "cell_type": "markdown",
   "metadata": {},
   "source": [
    "#### 4) Nested Conditional Statement"
   ]
  },
  {
   "cell_type": "code",
   "execution_count": 94,
   "metadata": {},
   "outputs": [
    {
     "name": "stdout",
     "output_type": "stream",
     "text": [
      "x is greater than y\n",
      "x + y != 15\n"
     ]
    }
   ],
   "source": [
    "x = 7\n",
    "y = 3\n",
    "\n",
    "if x>y:\n",
    "    print('x is greater than y')\n",
    "    if x + y == 15:\n",
    "        print('x + y = 15')\n",
    "    else:\n",
    "        print('x + y != 15')\n",
    "\n",
    "else:\n",
    "    print(\"y is greater than x\")"
   ]
  }
 ],
 "metadata": {
  "kernelspec": {
   "display_name": "Python 3",
   "language": "python",
   "name": "python3"
  },
  "language_info": {
   "codemirror_mode": {
    "name": "ipython",
    "version": 3
   },
   "file_extension": ".py",
   "mimetype": "text/x-python",
   "name": "python",
   "nbconvert_exporter": "python",
   "pygments_lexer": "ipython3",
   "version": "3.11.4"
  }
 },
 "nbformat": 4,
 "nbformat_minor": 2
}
